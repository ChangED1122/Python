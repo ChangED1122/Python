{
  "nbformat": 4,
  "nbformat_minor": 0,
  "metadata": {
    "colab": {
      "provenance": [],
      "gpuType": "T4",
      "authorship_tag": "ABX9TyOztAsgiLOYRLcLmqD0Lh58",
      "include_colab_link": true
    },
    "kernelspec": {
      "name": "python3",
      "display_name": "Python 3"
    },
    "language_info": {
      "name": "python"
    },
    "accelerator": "GPU",
    "gpuClass": "standard",
    "widgets": {
      "application/vnd.jupyter.widget-state+json": {
        "efa38949b6bf44ee81fa57d1d0bb8fc5": {
          "model_module": "@jupyter-widgets/controls",
          "model_name": "HBoxModel",
          "model_module_version": "1.5.0",
          "state": {
            "_dom_classes": [],
            "_model_module": "@jupyter-widgets/controls",
            "_model_module_version": "1.5.0",
            "_model_name": "HBoxModel",
            "_view_count": null,
            "_view_module": "@jupyter-widgets/controls",
            "_view_module_version": "1.5.0",
            "_view_name": "HBoxView",
            "box_style": "",
            "children": [
              "IPY_MODEL_6c5b4fc4a3474d24958b16ab077e50fe",
              "IPY_MODEL_350c4d7b143b4e9cb244851076ce907d",
              "IPY_MODEL_569695eb0f6e4ff08e4f4efcd7e7536f"
            ],
            "layout": "IPY_MODEL_163e232d04cb40b587750fdacd03b93e"
          }
        },
        "6c5b4fc4a3474d24958b16ab077e50fe": {
          "model_module": "@jupyter-widgets/controls",
          "model_name": "HTMLModel",
          "model_module_version": "1.5.0",
          "state": {
            "_dom_classes": [],
            "_model_module": "@jupyter-widgets/controls",
            "_model_module_version": "1.5.0",
            "_model_name": "HTMLModel",
            "_view_count": null,
            "_view_module": "@jupyter-widgets/controls",
            "_view_module_version": "1.5.0",
            "_view_name": "HTMLView",
            "description": "",
            "description_tooltip": null,
            "layout": "IPY_MODEL_4bde9e783b834525baaada45d3eb0710",
            "placeholder": "​",
            "style": "IPY_MODEL_10bf1109268a449ebeca68ca056ad61b",
            "value": "100%"
          }
        },
        "350c4d7b143b4e9cb244851076ce907d": {
          "model_module": "@jupyter-widgets/controls",
          "model_name": "FloatProgressModel",
          "model_module_version": "1.5.0",
          "state": {
            "_dom_classes": [],
            "_model_module": "@jupyter-widgets/controls",
            "_model_module_version": "1.5.0",
            "_model_name": "FloatProgressModel",
            "_view_count": null,
            "_view_module": "@jupyter-widgets/controls",
            "_view_module_version": "1.5.0",
            "_view_name": "ProgressView",
            "bar_style": "success",
            "description": "",
            "description_tooltip": null,
            "layout": "IPY_MODEL_3e4f82bb2902411e90085fe0e2dcc6fb",
            "max": 10,
            "min": 0,
            "orientation": "horizontal",
            "style": "IPY_MODEL_00f3fe05e13e43fe95033838e4e47be9",
            "value": 10
          }
        },
        "569695eb0f6e4ff08e4f4efcd7e7536f": {
          "model_module": "@jupyter-widgets/controls",
          "model_name": "HTMLModel",
          "model_module_version": "1.5.0",
          "state": {
            "_dom_classes": [],
            "_model_module": "@jupyter-widgets/controls",
            "_model_module_version": "1.5.0",
            "_model_name": "HTMLModel",
            "_view_count": null,
            "_view_module": "@jupyter-widgets/controls",
            "_view_module_version": "1.5.0",
            "_view_name": "HTMLView",
            "description": "",
            "description_tooltip": null,
            "layout": "IPY_MODEL_7c6971be4102407faf0286047c24ec1b",
            "placeholder": "​",
            "style": "IPY_MODEL_ef3c81b21d2744f89284e3c8099998e1",
            "value": " 10/10 [02:21&lt;00:00, 14.09s/it]"
          }
        },
        "163e232d04cb40b587750fdacd03b93e": {
          "model_module": "@jupyter-widgets/base",
          "model_name": "LayoutModel",
          "model_module_version": "1.2.0",
          "state": {
            "_model_module": "@jupyter-widgets/base",
            "_model_module_version": "1.2.0",
            "_model_name": "LayoutModel",
            "_view_count": null,
            "_view_module": "@jupyter-widgets/base",
            "_view_module_version": "1.2.0",
            "_view_name": "LayoutView",
            "align_content": null,
            "align_items": null,
            "align_self": null,
            "border": null,
            "bottom": null,
            "display": null,
            "flex": null,
            "flex_flow": null,
            "grid_area": null,
            "grid_auto_columns": null,
            "grid_auto_flow": null,
            "grid_auto_rows": null,
            "grid_column": null,
            "grid_gap": null,
            "grid_row": null,
            "grid_template_areas": null,
            "grid_template_columns": null,
            "grid_template_rows": null,
            "height": null,
            "justify_content": null,
            "justify_items": null,
            "left": null,
            "margin": null,
            "max_height": null,
            "max_width": null,
            "min_height": null,
            "min_width": null,
            "object_fit": null,
            "object_position": null,
            "order": null,
            "overflow": null,
            "overflow_x": null,
            "overflow_y": null,
            "padding": null,
            "right": null,
            "top": null,
            "visibility": null,
            "width": null
          }
        },
        "4bde9e783b834525baaada45d3eb0710": {
          "model_module": "@jupyter-widgets/base",
          "model_name": "LayoutModel",
          "model_module_version": "1.2.0",
          "state": {
            "_model_module": "@jupyter-widgets/base",
            "_model_module_version": "1.2.0",
            "_model_name": "LayoutModel",
            "_view_count": null,
            "_view_module": "@jupyter-widgets/base",
            "_view_module_version": "1.2.0",
            "_view_name": "LayoutView",
            "align_content": null,
            "align_items": null,
            "align_self": null,
            "border": null,
            "bottom": null,
            "display": null,
            "flex": null,
            "flex_flow": null,
            "grid_area": null,
            "grid_auto_columns": null,
            "grid_auto_flow": null,
            "grid_auto_rows": null,
            "grid_column": null,
            "grid_gap": null,
            "grid_row": null,
            "grid_template_areas": null,
            "grid_template_columns": null,
            "grid_template_rows": null,
            "height": null,
            "justify_content": null,
            "justify_items": null,
            "left": null,
            "margin": null,
            "max_height": null,
            "max_width": null,
            "min_height": null,
            "min_width": null,
            "object_fit": null,
            "object_position": null,
            "order": null,
            "overflow": null,
            "overflow_x": null,
            "overflow_y": null,
            "padding": null,
            "right": null,
            "top": null,
            "visibility": null,
            "width": null
          }
        },
        "10bf1109268a449ebeca68ca056ad61b": {
          "model_module": "@jupyter-widgets/controls",
          "model_name": "DescriptionStyleModel",
          "model_module_version": "1.5.0",
          "state": {
            "_model_module": "@jupyter-widgets/controls",
            "_model_module_version": "1.5.0",
            "_model_name": "DescriptionStyleModel",
            "_view_count": null,
            "_view_module": "@jupyter-widgets/base",
            "_view_module_version": "1.2.0",
            "_view_name": "StyleView",
            "description_width": ""
          }
        },
        "3e4f82bb2902411e90085fe0e2dcc6fb": {
          "model_module": "@jupyter-widgets/base",
          "model_name": "LayoutModel",
          "model_module_version": "1.2.0",
          "state": {
            "_model_module": "@jupyter-widgets/base",
            "_model_module_version": "1.2.0",
            "_model_name": "LayoutModel",
            "_view_count": null,
            "_view_module": "@jupyter-widgets/base",
            "_view_module_version": "1.2.0",
            "_view_name": "LayoutView",
            "align_content": null,
            "align_items": null,
            "align_self": null,
            "border": null,
            "bottom": null,
            "display": null,
            "flex": null,
            "flex_flow": null,
            "grid_area": null,
            "grid_auto_columns": null,
            "grid_auto_flow": null,
            "grid_auto_rows": null,
            "grid_column": null,
            "grid_gap": null,
            "grid_row": null,
            "grid_template_areas": null,
            "grid_template_columns": null,
            "grid_template_rows": null,
            "height": null,
            "justify_content": null,
            "justify_items": null,
            "left": null,
            "margin": null,
            "max_height": null,
            "max_width": null,
            "min_height": null,
            "min_width": null,
            "object_fit": null,
            "object_position": null,
            "order": null,
            "overflow": null,
            "overflow_x": null,
            "overflow_y": null,
            "padding": null,
            "right": null,
            "top": null,
            "visibility": null,
            "width": null
          }
        },
        "00f3fe05e13e43fe95033838e4e47be9": {
          "model_module": "@jupyter-widgets/controls",
          "model_name": "ProgressStyleModel",
          "model_module_version": "1.5.0",
          "state": {
            "_model_module": "@jupyter-widgets/controls",
            "_model_module_version": "1.5.0",
            "_model_name": "ProgressStyleModel",
            "_view_count": null,
            "_view_module": "@jupyter-widgets/base",
            "_view_module_version": "1.2.0",
            "_view_name": "StyleView",
            "bar_color": null,
            "description_width": ""
          }
        },
        "7c6971be4102407faf0286047c24ec1b": {
          "model_module": "@jupyter-widgets/base",
          "model_name": "LayoutModel",
          "model_module_version": "1.2.0",
          "state": {
            "_model_module": "@jupyter-widgets/base",
            "_model_module_version": "1.2.0",
            "_model_name": "LayoutModel",
            "_view_count": null,
            "_view_module": "@jupyter-widgets/base",
            "_view_module_version": "1.2.0",
            "_view_name": "LayoutView",
            "align_content": null,
            "align_items": null,
            "align_self": null,
            "border": null,
            "bottom": null,
            "display": null,
            "flex": null,
            "flex_flow": null,
            "grid_area": null,
            "grid_auto_columns": null,
            "grid_auto_flow": null,
            "grid_auto_rows": null,
            "grid_column": null,
            "grid_gap": null,
            "grid_row": null,
            "grid_template_areas": null,
            "grid_template_columns": null,
            "grid_template_rows": null,
            "height": null,
            "justify_content": null,
            "justify_items": null,
            "left": null,
            "margin": null,
            "max_height": null,
            "max_width": null,
            "min_height": null,
            "min_width": null,
            "object_fit": null,
            "object_position": null,
            "order": null,
            "overflow": null,
            "overflow_x": null,
            "overflow_y": null,
            "padding": null,
            "right": null,
            "top": null,
            "visibility": null,
            "width": null
          }
        },
        "ef3c81b21d2744f89284e3c8099998e1": {
          "model_module": "@jupyter-widgets/controls",
          "model_name": "DescriptionStyleModel",
          "model_module_version": "1.5.0",
          "state": {
            "_model_module": "@jupyter-widgets/controls",
            "_model_module_version": "1.5.0",
            "_model_name": "DescriptionStyleModel",
            "_view_count": null,
            "_view_module": "@jupyter-widgets/base",
            "_view_module_version": "1.2.0",
            "_view_name": "StyleView",
            "description_width": ""
          }
        }
      }
    }
  },
  "cells": [
    {
      "cell_type": "markdown",
      "metadata": {
        "id": "view-in-github",
        "colab_type": "text"
      },
      "source": [
        "<a href=\"https://colab.research.google.com/github/ChangED1122/Python/blob/Python-PyTorch/PyTorch_%E7%B0%A1%E5%8C%96%E7%89%88VGG.ipynb\" target=\"_parent\"><img src=\"https://colab.research.google.com/assets/colab-badge.svg\" alt=\"Open In Colab\"/></a>"
      ]
    },
    {
      "cell_type": "code",
      "source": [
        "from torchvision import datasets\n",
        "from torchvision.transforms import ToTensor #轉換成tensor格式\n",
        "import  matplotlib.pyplot as plt\n",
        "import random\n",
        "from torch.utils.data import DataLoader #把資料分成一小堆\n",
        "from torch import nn\n",
        "import torch"
      ],
      "metadata": {
        "id": "uLaMVDPni3d_"
      },
      "execution_count": null,
      "outputs": []
    },
    {
      "cell_type": "code",
      "source": [
        "train_data = datasets.FashionMNIST(\n",
        "                      root=\"image\",\n",
        "                      train=True,\n",
        "                      download=True,\n",
        "                      transform=ToTensor()) #轉換成tensor格式，並預先幫我們做特徵縮放\n",
        "\n",
        "test_data = datasets.FashionMNIST(\n",
        "                      root=\"image\",\n",
        "                      train=False,\n",
        "                      download=True,\n",
        "                      transform=ToTensor())"
      ],
      "metadata": {
        "id": "FJDpH03AjW2b"
      },
      "execution_count": null,
      "outputs": []
    },
    {
      "cell_type": "code",
      "source": [
        "img, label = train_data[0]\n",
        "class_names = train_data.classes\n",
        "label , train_data.classes"
      ],
      "metadata": {
        "colab": {
          "base_uri": "https://localhost:8080/"
        },
        "id": "sCvuu5YPjWj4",
        "outputId": "a3308360-291a-48a2-abc2-ba218a774618"
      },
      "execution_count": null,
      "outputs": [
        {
          "output_type": "execute_result",
          "data": {
            "text/plain": [
              "(9,\n",
              " ['T-shirt/top',\n",
              "  'Trouser',\n",
              "  'Pullover',\n",
              "  'Dress',\n",
              "  'Coat',\n",
              "  'Sandal',\n",
              "  'Shirt',\n",
              "  'Sneaker',\n",
              "  'Bag',\n",
              "  'Ankle boot'])"
            ]
          },
          "metadata": {},
          "execution_count": 35
        }
      ]
    },
    {
      "cell_type": "code",
      "source": [
        "len(train_data), len(test_data) # 資料量太大做剃度下降不能全部看完再更新，速度太慢\n",
        "\n",
        "BATCH_SIZE = 32\n",
        "\n",
        "train_dataloader = DataLoader(train_data, batch_size=BATCH_SIZE, shuffle=True) #一開始的資料是有順序的排列直接操作訓練效果不好\n",
        "\n",
        "test_dataloader = DataLoader(test_data, batch_size=BATCH_SIZE, shuffle=False)\n",
        "\n",
        "len(train_dataloader) , len(test_dataloader)  # 60000 / 32 , 10000 / 32"
      ],
      "metadata": {
        "colab": {
          "base_uri": "https://localhost:8080/"
        },
        "id": "Gel7Ui6qjScK",
        "outputId": "3fa2be69-47f5-412d-f641-2e0384458089"
      },
      "execution_count": null,
      "outputs": [
        {
          "output_type": "execute_result",
          "data": {
            "text/plain": [
              "(1875, 313)"
            ]
          },
          "metadata": {},
          "execution_count": 36
        }
      ]
    },
    {
      "cell_type": "code",
      "source": [
        "x_first_batch, y_first_batch = next(iter(train_dataloader))  \n",
        "x_first_batch.shape , y_first_batch.shape"
      ],
      "metadata": {
        "colab": {
          "base_uri": "https://localhost:8080/"
        },
        "id": "_eraONUMjOS7",
        "outputId": "248fd211-4540-42c7-8a61-bcb9eee26971"
      },
      "execution_count": null,
      "outputs": [
        {
          "output_type": "execute_result",
          "data": {
            "text/plain": [
              "(torch.Size([32, 1, 28, 28]), torch.Size([32]))"
            ]
          },
          "metadata": {},
          "execution_count": 37
        }
      ]
    },
    {
      "cell_type": "code",
      "source": [
        "x_first_batch[0].shape"
      ],
      "metadata": {
        "colab": {
          "base_uri": "https://localhost:8080/"
        },
        "id": "SzyIh34Gjozd",
        "outputId": "7c4650dd-0b43-4002-fe0c-1193af5b935a"
      },
      "execution_count": null,
      "outputs": [
        {
          "output_type": "execute_result",
          "data": {
            "text/plain": [
              "torch.Size([1, 28, 28])"
            ]
          },
          "metadata": {},
          "execution_count": 38
        }
      ]
    },
    {
      "cell_type": "markdown",
      "source": [
        "torch.nn Conv2d : 卷基層參數解釋 \n",
        "\n",
        "in_channels: 灰階圖像channel=1，彩色=3\n",
        "\n",
        "out_channels: filter有幾個\n",
        "\n",
        "padding = 1 ,在外面補一圈0"
      ],
      "metadata": {
        "id": "6zbkRbqtjdvR"
      }
    },
    {
      "cell_type": "code",
      "execution_count": null,
      "metadata": {
        "colab": {
          "base_uri": "https://localhost:8080/"
        },
        "id": "Ykvv8z45hsT_",
        "outputId": "be8ca942-c3fc-4f1a-fa6b-9a91c7c80a64"
      },
      "outputs": [
        {
          "output_type": "stream",
          "name": "stdout",
          "text": [
            "torch.Size([8, 26, 26])\n"
          ]
        },
        {
          "output_type": "execute_result",
          "data": {
            "text/plain": [
              "torch.Size([8, 13, 13])"
            ]
          },
          "metadata": {},
          "execution_count": 39
        }
      ],
      "source": [
        "conv_layer = nn.Conv2d(in_channels=1, out_channels=8, kernel_size=(5,5), stride=1, padding=1)\n",
        "conv_output = conv_layer(x_first_batch[0])  \n",
        "print(conv_output.shape)\n",
        "maxpool = nn.MaxPool2d(kernel_size=(2,2), stride=2, padding=0)\n",
        "maxpool(conv_output).shape"
      ]
    },
    {
      "cell_type": "markdown",
      "source": [
        "![346111422_277444251306320_435822716000481960_n.png](data:image/png;base64,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)"
      ],
      "metadata": {
        "id": "h8oOjMHomokD"
      }
    },
    {
      "cell_type": "code",
      "source": [
        "class ImageClassificationModel3(nn.Module):\n",
        "  def __init__(self, input_shape, output_shape):\n",
        "    super().__init__()\n",
        "    self.conv_block_1 = nn.Sequential(\n",
        "      nn.Conv2d(in_channels=input_shape,\n",
        "                out_channels=8, \n",
        "                kernel_size=(3,3), \n",
        "                stride=1, \n",
        "                padding=1\n",
        "      ),\n",
        "      nn.ReLU(),\n",
        "      nn.Conv2d(in_channels=8,\n",
        "                out_channels=8, \n",
        "                kernel_size=(3,3), \n",
        "                stride=1, \n",
        "                padding=1\n",
        "      ),\n",
        "      nn.ReLU(),\n",
        "      nn.MaxPool2d(kernel_size=(2,2), \n",
        "                   stride=2, \n",
        "                   padding=0\n",
        "      )\n",
        "    )\n",
        "    self.conv_block_2 = nn.Sequential(\n",
        "      nn.Conv2d(in_channels=8,\n",
        "                out_channels=16, \n",
        "                kernel_size=(3,3), \n",
        "                stride=1, \n",
        "                padding=1\n",
        "      ),\n",
        "      nn.ReLU(),\n",
        "      nn.Conv2d(in_channels=16,\n",
        "                out_channels=16, \n",
        "                kernel_size=(3,3), \n",
        "                stride=1, \n",
        "                padding=1\n",
        "      ),\n",
        "      nn.ReLU(),\n",
        "      nn.MaxPool2d(kernel_size=(2,2), \n",
        "                   stride=2, \n",
        "                   padding=0\n",
        "      )\n",
        "    )\n",
        "    self.classifier = nn.Sequential(\n",
        "        nn.Flatten(start_dim=1,end_dim=-1), #預設是（1,-1）這樣沒有全部攤平\n",
        "        nn.Linear(in_features=16*7*7, out_features=output_shape) #如果不知道in_features要填多少，可以先跑block_1&block_2\n",
        "        #nn.Softmax()  因為torch的 CrossEntropy已經包含 Softmax()\n",
        "    )\n",
        "    \n",
        "\n",
        "  def forward(self,x):\n",
        "    x = self.conv_block_1(x)\n",
        "    x = self.conv_block_2(x)\n",
        "    x = self.classifier(x)\n",
        "    return x\n"
      ],
      "metadata": {
        "id": "tGzpTuWPmGW7"
      },
      "execution_count": null,
      "outputs": []
    },
    {
      "cell_type": "code",
      "source": [
        "# model3 = ImageClassificationModel3(1, 10)\n",
        "# model3(x_first_batch[0]).shape #這裡知道in_features要填 16*7*7"
      ],
      "metadata": {
        "id": "Hxd1s11YsAX-"
      },
      "execution_count": null,
      "outputs": []
    },
    {
      "cell_type": "code",
      "source": [
        "model_3 = ImageClassificationModel3(1, 10)\n",
        "\n",
        "device = \"cuda\" if torch.cuda.is_available() else \"cpu\"\n",
        "model_3.to(device)\n",
        "cost_fn = nn.CrossEntropyLoss()\n",
        "optimizer = torch.optim.SGD(model_3.parameters(),lr=0.01)"
      ],
      "metadata": {
        "id": "QjVl8KpZorBV"
      },
      "execution_count": null,
      "outputs": []
    },
    {
      "cell_type": "code",
      "source": [
        "def accuracy_fn(y_pred, y_true):\n",
        "  correct_num = ( y_pred==y_true).sum()\n",
        "  acc = correct_num/len(y_true) *100\n",
        "  return acc"
      ],
      "metadata": {
        "id": "rplTcryzt1bR"
      },
      "execution_count": null,
      "outputs": []
    },
    {
      "cell_type": "code",
      "source": [
        "def train_step(dataloader, model, cost_fn, optimizer, accuracy_fn, device): #訓練步驟\n",
        "   train_cost = 0\n",
        "   train_acc = 0\n",
        "\n",
        "   for batch, (x, y) in enumerate(dataloader):  # enumerate( ) 知道第幾個batch\n",
        "    x= x.to(device)\n",
        "    y= y.to(device)\n",
        "    model.train()\n",
        "\n",
        "    y_pred = model(x)\n",
        "\n",
        "    cost = cost_fn(y_pred, y)\n",
        "    train_cost += cost   #  train_cost的值=每個batch的cost加總\n",
        "\n",
        "    train_acc += accuracy_fn(y_pred.argmax(dim=1) ,y)\n",
        "\n",
        "    optimizer.zero_grad()\n",
        "    cost.backward()\n",
        "    optimizer.step()\n",
        "  \n",
        "   train_cost /= len(train_dataloader)  #取平均\n",
        "   train_acc /= len(train_dataloader)\n",
        "   print(f\"\\nTrain Cost: {train_cost:.4f}, Train Acc: {train_acc:.2f}\")\n",
        "\n",
        "def test_step(dataloader, model, cost_fn, accuracy_fn, device): #測試步驟\n",
        "  test_cost = 0\n",
        "  test_acc = 0\n",
        "  model.eval()\n",
        "  with torch.inference_mode():\n",
        "    for x, y in dataloader:\n",
        "      x= x.to(device)\n",
        "      y= y.to(device)\n",
        "      test_pred = model(x)\n",
        "      \n",
        "      test_cost += cost_fn(test_pred, y)\n",
        "      test_acc += accuracy_fn(test_pred.argmax(dim=1) ,y)\n",
        "\n",
        "    test_cost /= len(test_dataloader)\n",
        "    test_acc /= len(test_dataloader)\n",
        "  \n",
        "  print(f\"Test  Cost: {test_cost:.4f}, Test  Acc: {test_acc:.2f}  \\n\")"
      ],
      "metadata": {
        "id": "VlhfBIkksW1h"
      },
      "execution_count": null,
      "outputs": []
    },
    {
      "cell_type": "markdown",
      "source": [
        "原本程式碼：\n",
        "nn.Flatten(start_dim=0,end_dim=-1) \n",
        "\n",
        "出現錯誤 mat1 and mat2 shapes cannot be multiplied (1x25088 and 784x10)\n",
        "\n",
        "一開始是要看model_3(x_first_batch[0]).shape  維度是16＊7＊7\n",
        "\n",
        "更改程式碼：nn.Flatten(start_dim=1,end_dim=-1) \n",
        "\n",
        "\n",
        "因為餵進去的資料是一個batch一個batch，維度是 32＊16＊7＊7，所以要從第1個維度開始攤平 ＝32*784"
      ],
      "metadata": {
        "id": "WoGHfKRBuOUb"
      }
    },
    {
      "cell_type": "code",
      "source": [
        "from tqdm.auto import tqdm  #進度條\n",
        "\n",
        "epochs = 10\n",
        "for epoch in tqdm(range(epochs)):\n",
        "  print(f\"Epoch: {epoch}\\n------\")\n",
        "  train_step(train_dataloader, model_3, cost_fn, optimizer, accuracy_fn, device)\n",
        "\n",
        "  test_step(test_dataloader, model_3, cost_fn, accuracy_fn, device)\n",
        "\n",
        "  "
      ],
      "metadata": {
        "colab": {
          "base_uri": "https://localhost:8080/",
          "height": 1000,
          "referenced_widgets": [
            "efa38949b6bf44ee81fa57d1d0bb8fc5",
            "6c5b4fc4a3474d24958b16ab077e50fe",
            "350c4d7b143b4e9cb244851076ce907d",
            "569695eb0f6e4ff08e4f4efcd7e7536f",
            "163e232d04cb40b587750fdacd03b93e",
            "4bde9e783b834525baaada45d3eb0710",
            "10bf1109268a449ebeca68ca056ad61b",
            "3e4f82bb2902411e90085fe0e2dcc6fb",
            "00f3fe05e13e43fe95033838e4e47be9",
            "7c6971be4102407faf0286047c24ec1b",
            "ef3c81b21d2744f89284e3c8099998e1"
          ]
        },
        "id": "fnQm_Bc7tZhn",
        "outputId": "47cfd9f4-b90a-4489-95fc-b17676b069ee"
      },
      "execution_count": null,
      "outputs": [
        {
          "output_type": "display_data",
          "data": {
            "text/plain": [
              "  0%|          | 0/10 [00:00<?, ?it/s]"
            ],
            "application/vnd.jupyter.widget-view+json": {
              "version_major": 2,
              "version_minor": 0,
              "model_id": "efa38949b6bf44ee81fa57d1d0bb8fc5"
            }
          },
          "metadata": {}
        },
        {
          "output_type": "stream",
          "name": "stdout",
          "text": [
            "Epoch: 0\n",
            "------\n",
            "\n",
            "Train Cost: 1.0455, Train Acc: 62.58\n",
            "Test  Cost: 0.5787, Test  Acc: 78.70  \n",
            "\n",
            "Epoch: 1\n",
            "------\n",
            "\n",
            "Train Cost: 0.4972, Train Acc: 82.09\n",
            "Test  Cost: 0.4679, Test  Acc: 83.70  \n",
            "\n",
            "Epoch: 2\n",
            "------\n",
            "\n",
            "Train Cost: 0.4217, Train Acc: 84.96\n",
            "Test  Cost: 0.4314, Test  Acc: 84.64  \n",
            "\n",
            "Epoch: 3\n",
            "------\n",
            "\n",
            "Train Cost: 0.3843, Train Acc: 86.34\n",
            "Test  Cost: 0.3919, Test  Acc: 86.50  \n",
            "\n",
            "Epoch: 4\n",
            "------\n",
            "\n",
            "Train Cost: 0.3592, Train Acc: 87.16\n",
            "Test  Cost: 0.3718, Test  Acc: 86.90  \n",
            "\n",
            "Epoch: 5\n",
            "------\n",
            "\n",
            "Train Cost: 0.3394, Train Acc: 87.75\n",
            "Test  Cost: 0.3569, Test  Acc: 87.44  \n",
            "\n",
            "Epoch: 6\n",
            "------\n",
            "\n",
            "Train Cost: 0.3255, Train Acc: 88.32\n",
            "Test  Cost: 0.3530, Test  Acc: 87.42  \n",
            "\n",
            "Epoch: 7\n",
            "------\n",
            "\n",
            "Train Cost: 0.3134, Train Acc: 88.72\n",
            "Test  Cost: 0.3394, Test  Acc: 87.66  \n",
            "\n",
            "Epoch: 8\n",
            "------\n",
            "\n",
            "Train Cost: 0.3049, Train Acc: 89.13\n",
            "Test  Cost: 0.3355, Test  Acc: 87.61  \n",
            "\n",
            "Epoch: 9\n",
            "------\n",
            "\n",
            "Train Cost: 0.2953, Train Acc: 89.42\n",
            "Test  Cost: 0.3263, Test  Acc: 88.12  \n",
            "\n"
          ]
        }
      ]
    },
    {
      "cell_type": "code",
      "source": [
        "def eval_model( dataloader, model, cost_fn, accuracy_fn, device):\n",
        "  test_cost = 0\n",
        "  test_acc = 0\n",
        "  model.eval()\n",
        "  with torch.inference_mode():\n",
        "    for x, y in dataloader:\n",
        "      x= x.to(device)\n",
        "      y= y.to(device)\n",
        "      test_pred = model(x)\n",
        "      \n",
        "      test_cost += cost_fn(test_pred, y)\n",
        "      test_acc += accuracy_fn(test_pred.argmax(dim=1) ,y)\n",
        "\n",
        "    test_cost /= len(test_dataloader)\n",
        "    test_acc /= len(test_dataloader)\n",
        "\n",
        "  return {\n",
        "      \"model_name\": model.__class__.__name__, #取得模型名稱\n",
        "      \"model_cost\": test_cost.item(), #.item() 單純取得裡面數字 不會有tensor格式\n",
        "      \"model_acc\": test_acc.item()\n",
        "  }"
      ],
      "metadata": {
        "id": "eduMJqMJxuxt"
      },
      "execution_count": null,
      "outputs": []
    },
    {
      "cell_type": "code",
      "source": [
        "model_3_result = eval_model( test_dataloader, model_3, cost_fn, accuracy_fn, device)\n",
        "model_3_result #end "
      ],
      "metadata": {
        "colab": {
          "base_uri": "https://localhost:8080/"
        },
        "id": "3C7GMYwcxlKl",
        "outputId": "b2d0c80e-ea70-4cb9-c4ef-eb388d66d5a6"
      },
      "execution_count": null,
      "outputs": [
        {
          "output_type": "execute_result",
          "data": {
            "text/plain": [
              "{'model_name': 'ImageClassificationModel3',\n",
              " 'model_cost': 0.32626792788505554,\n",
              " 'model_acc': 88.11901092529297}"
            ]
          },
          "metadata": {},
          "execution_count": 49
        }
      ]
    }
  ]
}