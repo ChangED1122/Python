{
  "nbformat": 4,
  "nbformat_minor": 0,
  "metadata": {
    "colab": {
      "provenance": [],
      "gpuType": "T4",
      "authorship_tag": "ABX9TyMu2Ma1QpYtoANGnGbTf1Q1",
      "include_colab_link": true
    },
    "kernelspec": {
      "name": "python3",
      "display_name": "Python 3"
    },
    "language_info": {
      "name": "python"
    },
    "accelerator": "GPU",
    "gpuClass": "standard",
    "widgets": {
      "application/vnd.jupyter.widget-state+json": {
        "0b050801b7f74618b887682f6eeeba9b": {
          "model_module": "@jupyter-widgets/controls",
          "model_name": "HBoxModel",
          "model_module_version": "1.5.0",
          "state": {
            "_dom_classes": [],
            "_model_module": "@jupyter-widgets/controls",
            "_model_module_version": "1.5.0",
            "_model_name": "HBoxModel",
            "_view_count": null,
            "_view_module": "@jupyter-widgets/controls",
            "_view_module_version": "1.5.0",
            "_view_name": "HBoxView",
            "box_style": "",
            "children": [
              "IPY_MODEL_b32e9ddcb30c4ae08fc308762a7b2569",
              "IPY_MODEL_412ea3b86bef4bfe9a616e9f5ce41a0a",
              "IPY_MODEL_8cf4f54ba20e440e8c7221e59f31bbbb"
            ],
            "layout": "IPY_MODEL_c5086bcf890d4e95bdea15d66ff934c1"
          }
        },
        "b32e9ddcb30c4ae08fc308762a7b2569": {
          "model_module": "@jupyter-widgets/controls",
          "model_name": "HTMLModel",
          "model_module_version": "1.5.0",
          "state": {
            "_dom_classes": [],
            "_model_module": "@jupyter-widgets/controls",
            "_model_module_version": "1.5.0",
            "_model_name": "HTMLModel",
            "_view_count": null,
            "_view_module": "@jupyter-widgets/controls",
            "_view_module_version": "1.5.0",
            "_view_name": "HTMLView",
            "description": "",
            "description_tooltip": null,
            "layout": "IPY_MODEL_846948b0edc443feb3a456263616c183",
            "placeholder": "​",
            "style": "IPY_MODEL_87545228b67b46d28ab05acaf338f9f8",
            "value": "100%"
          }
        },
        "412ea3b86bef4bfe9a616e9f5ce41a0a": {
          "model_module": "@jupyter-widgets/controls",
          "model_name": "FloatProgressModel",
          "model_module_version": "1.5.0",
          "state": {
            "_dom_classes": [],
            "_model_module": "@jupyter-widgets/controls",
            "_model_module_version": "1.5.0",
            "_model_name": "FloatProgressModel",
            "_view_count": null,
            "_view_module": "@jupyter-widgets/controls",
            "_view_module_version": "1.5.0",
            "_view_name": "ProgressView",
            "bar_style": "success",
            "description": "",
            "description_tooltip": null,
            "layout": "IPY_MODEL_d54c46f49a124ff1b67591649e1b66ea",
            "max": 10,
            "min": 0,
            "orientation": "horizontal",
            "style": "IPY_MODEL_7b76066cf43c4c609e491869023e0d8f",
            "value": 10
          }
        },
        "8cf4f54ba20e440e8c7221e59f31bbbb": {
          "model_module": "@jupyter-widgets/controls",
          "model_name": "HTMLModel",
          "model_module_version": "1.5.0",
          "state": {
            "_dom_classes": [],
            "_model_module": "@jupyter-widgets/controls",
            "_model_module_version": "1.5.0",
            "_model_name": "HTMLModel",
            "_view_count": null,
            "_view_module": "@jupyter-widgets/controls",
            "_view_module_version": "1.5.0",
            "_view_name": "HTMLView",
            "description": "",
            "description_tooltip": null,
            "layout": "IPY_MODEL_d00c44f5a8cb45fd8e8530d1bf5dd775",
            "placeholder": "​",
            "style": "IPY_MODEL_c95e392e397a42caa39486b32ac17879",
            "value": " 10/10 [01:53&lt;00:00, 11.14s/it]"
          }
        },
        "c5086bcf890d4e95bdea15d66ff934c1": {
          "model_module": "@jupyter-widgets/base",
          "model_name": "LayoutModel",
          "model_module_version": "1.2.0",
          "state": {
            "_model_module": "@jupyter-widgets/base",
            "_model_module_version": "1.2.0",
            "_model_name": "LayoutModel",
            "_view_count": null,
            "_view_module": "@jupyter-widgets/base",
            "_view_module_version": "1.2.0",
            "_view_name": "LayoutView",
            "align_content": null,
            "align_items": null,
            "align_self": null,
            "border": null,
            "bottom": null,
            "display": null,
            "flex": null,
            "flex_flow": null,
            "grid_area": null,
            "grid_auto_columns": null,
            "grid_auto_flow": null,
            "grid_auto_rows": null,
            "grid_column": null,
            "grid_gap": null,
            "grid_row": null,
            "grid_template_areas": null,
            "grid_template_columns": null,
            "grid_template_rows": null,
            "height": null,
            "justify_content": null,
            "justify_items": null,
            "left": null,
            "margin": null,
            "max_height": null,
            "max_width": null,
            "min_height": null,
            "min_width": null,
            "object_fit": null,
            "object_position": null,
            "order": null,
            "overflow": null,
            "overflow_x": null,
            "overflow_y": null,
            "padding": null,
            "right": null,
            "top": null,
            "visibility": null,
            "width": null
          }
        },
        "846948b0edc443feb3a456263616c183": {
          "model_module": "@jupyter-widgets/base",
          "model_name": "LayoutModel",
          "model_module_version": "1.2.0",
          "state": {
            "_model_module": "@jupyter-widgets/base",
            "_model_module_version": "1.2.0",
            "_model_name": "LayoutModel",
            "_view_count": null,
            "_view_module": "@jupyter-widgets/base",
            "_view_module_version": "1.2.0",
            "_view_name": "LayoutView",
            "align_content": null,
            "align_items": null,
            "align_self": null,
            "border": null,
            "bottom": null,
            "display": null,
            "flex": null,
            "flex_flow": null,
            "grid_area": null,
            "grid_auto_columns": null,
            "grid_auto_flow": null,
            "grid_auto_rows": null,
            "grid_column": null,
            "grid_gap": null,
            "grid_row": null,
            "grid_template_areas": null,
            "grid_template_columns": null,
            "grid_template_rows": null,
            "height": null,
            "justify_content": null,
            "justify_items": null,
            "left": null,
            "margin": null,
            "max_height": null,
            "max_width": null,
            "min_height": null,
            "min_width": null,
            "object_fit": null,
            "object_position": null,
            "order": null,
            "overflow": null,
            "overflow_x": null,
            "overflow_y": null,
            "padding": null,
            "right": null,
            "top": null,
            "visibility": null,
            "width": null
          }
        },
        "87545228b67b46d28ab05acaf338f9f8": {
          "model_module": "@jupyter-widgets/controls",
          "model_name": "DescriptionStyleModel",
          "model_module_version": "1.5.0",
          "state": {
            "_model_module": "@jupyter-widgets/controls",
            "_model_module_version": "1.5.0",
            "_model_name": "DescriptionStyleModel",
            "_view_count": null,
            "_view_module": "@jupyter-widgets/base",
            "_view_module_version": "1.2.0",
            "_view_name": "StyleView",
            "description_width": ""
          }
        },
        "d54c46f49a124ff1b67591649e1b66ea": {
          "model_module": "@jupyter-widgets/base",
          "model_name": "LayoutModel",
          "model_module_version": "1.2.0",
          "state": {
            "_model_module": "@jupyter-widgets/base",
            "_model_module_version": "1.2.0",
            "_model_name": "LayoutModel",
            "_view_count": null,
            "_view_module": "@jupyter-widgets/base",
            "_view_module_version": "1.2.0",
            "_view_name": "LayoutView",
            "align_content": null,
            "align_items": null,
            "align_self": null,
            "border": null,
            "bottom": null,
            "display": null,
            "flex": null,
            "flex_flow": null,
            "grid_area": null,
            "grid_auto_columns": null,
            "grid_auto_flow": null,
            "grid_auto_rows": null,
            "grid_column": null,
            "grid_gap": null,
            "grid_row": null,
            "grid_template_areas": null,
            "grid_template_columns": null,
            "grid_template_rows": null,
            "height": null,
            "justify_content": null,
            "justify_items": null,
            "left": null,
            "margin": null,
            "max_height": null,
            "max_width": null,
            "min_height": null,
            "min_width": null,
            "object_fit": null,
            "object_position": null,
            "order": null,
            "overflow": null,
            "overflow_x": null,
            "overflow_y": null,
            "padding": null,
            "right": null,
            "top": null,
            "visibility": null,
            "width": null
          }
        },
        "7b76066cf43c4c609e491869023e0d8f": {
          "model_module": "@jupyter-widgets/controls",
          "model_name": "ProgressStyleModel",
          "model_module_version": "1.5.0",
          "state": {
            "_model_module": "@jupyter-widgets/controls",
            "_model_module_version": "1.5.0",
            "_model_name": "ProgressStyleModel",
            "_view_count": null,
            "_view_module": "@jupyter-widgets/base",
            "_view_module_version": "1.2.0",
            "_view_name": "StyleView",
            "bar_color": null,
            "description_width": ""
          }
        },
        "d00c44f5a8cb45fd8e8530d1bf5dd775": {
          "model_module": "@jupyter-widgets/base",
          "model_name": "LayoutModel",
          "model_module_version": "1.2.0",
          "state": {
            "_model_module": "@jupyter-widgets/base",
            "_model_module_version": "1.2.0",
            "_model_name": "LayoutModel",
            "_view_count": null,
            "_view_module": "@jupyter-widgets/base",
            "_view_module_version": "1.2.0",
            "_view_name": "LayoutView",
            "align_content": null,
            "align_items": null,
            "align_self": null,
            "border": null,
            "bottom": null,
            "display": null,
            "flex": null,
            "flex_flow": null,
            "grid_area": null,
            "grid_auto_columns": null,
            "grid_auto_flow": null,
            "grid_auto_rows": null,
            "grid_column": null,
            "grid_gap": null,
            "grid_row": null,
            "grid_template_areas": null,
            "grid_template_columns": null,
            "grid_template_rows": null,
            "height": null,
            "justify_content": null,
            "justify_items": null,
            "left": null,
            "margin": null,
            "max_height": null,
            "max_width": null,
            "min_height": null,
            "min_width": null,
            "object_fit": null,
            "object_position": null,
            "order": null,
            "overflow": null,
            "overflow_x": null,
            "overflow_y": null,
            "padding": null,
            "right": null,
            "top": null,
            "visibility": null,
            "width": null
          }
        },
        "c95e392e397a42caa39486b32ac17879": {
          "model_module": "@jupyter-widgets/controls",
          "model_name": "DescriptionStyleModel",
          "model_module_version": "1.5.0",
          "state": {
            "_model_module": "@jupyter-widgets/controls",
            "_model_module_version": "1.5.0",
            "_model_name": "DescriptionStyleModel",
            "_view_count": null,
            "_view_module": "@jupyter-widgets/base",
            "_view_module_version": "1.2.0",
            "_view_name": "StyleView",
            "description_width": ""
          }
        },
        "f82daaac85604e4b92a531a80b6870d5": {
          "model_module": "@jupyter-widgets/controls",
          "model_name": "HBoxModel",
          "model_module_version": "1.5.0",
          "state": {
            "_dom_classes": [],
            "_model_module": "@jupyter-widgets/controls",
            "_model_module_version": "1.5.0",
            "_model_name": "HBoxModel",
            "_view_count": null,
            "_view_module": "@jupyter-widgets/controls",
            "_view_module_version": "1.5.0",
            "_view_name": "HBoxView",
            "box_style": "",
            "children": [
              "IPY_MODEL_e72d0c37884e4237bd4fca7a1f74964a",
              "IPY_MODEL_d0fd603832094409a76db638e28129fe",
              "IPY_MODEL_6054b4e2844e4540848ace398db3a981"
            ],
            "layout": "IPY_MODEL_37462ba63033467a8c3b3ca4600276f5"
          }
        },
        "e72d0c37884e4237bd4fca7a1f74964a": {
          "model_module": "@jupyter-widgets/controls",
          "model_name": "HTMLModel",
          "model_module_version": "1.5.0",
          "state": {
            "_dom_classes": [],
            "_model_module": "@jupyter-widgets/controls",
            "_model_module_version": "1.5.0",
            "_model_name": "HTMLModel",
            "_view_count": null,
            "_view_module": "@jupyter-widgets/controls",
            "_view_module_version": "1.5.0",
            "_view_name": "HTMLView",
            "description": "",
            "description_tooltip": null,
            "layout": "IPY_MODEL_1373ef7d442443149f30d6ce255eb579",
            "placeholder": "​",
            "style": "IPY_MODEL_9a268deee76d463ba754d08c996d74c6",
            "value": "100%"
          }
        },
        "d0fd603832094409a76db638e28129fe": {
          "model_module": "@jupyter-widgets/controls",
          "model_name": "FloatProgressModel",
          "model_module_version": "1.5.0",
          "state": {
            "_dom_classes": [],
            "_model_module": "@jupyter-widgets/controls",
            "_model_module_version": "1.5.0",
            "_model_name": "FloatProgressModel",
            "_view_count": null,
            "_view_module": "@jupyter-widgets/controls",
            "_view_module_version": "1.5.0",
            "_view_name": "ProgressView",
            "bar_style": "success",
            "description": "",
            "description_tooltip": null,
            "layout": "IPY_MODEL_647c8ab755334ec3af784e394ca8c724",
            "max": 10,
            "min": 0,
            "orientation": "horizontal",
            "style": "IPY_MODEL_ad00ccbbcf55400799e043f9f24d7aa8",
            "value": 10
          }
        },
        "6054b4e2844e4540848ace398db3a981": {
          "model_module": "@jupyter-widgets/controls",
          "model_name": "HTMLModel",
          "model_module_version": "1.5.0",
          "state": {
            "_dom_classes": [],
            "_model_module": "@jupyter-widgets/controls",
            "_model_module_version": "1.5.0",
            "_model_name": "HTMLModel",
            "_view_count": null,
            "_view_module": "@jupyter-widgets/controls",
            "_view_module_version": "1.5.0",
            "_view_name": "HTMLView",
            "description": "",
            "description_tooltip": null,
            "layout": "IPY_MODEL_3ac97cc3d5714aa48c461cd1817549d7",
            "placeholder": "​",
            "style": "IPY_MODEL_652a3730b11d44cb8ce582039dba5892",
            "value": " 10/10 [01:59&lt;00:00, 12.01s/it]"
          }
        },
        "37462ba63033467a8c3b3ca4600276f5": {
          "model_module": "@jupyter-widgets/base",
          "model_name": "LayoutModel",
          "model_module_version": "1.2.0",
          "state": {
            "_model_module": "@jupyter-widgets/base",
            "_model_module_version": "1.2.0",
            "_model_name": "LayoutModel",
            "_view_count": null,
            "_view_module": "@jupyter-widgets/base",
            "_view_module_version": "1.2.0",
            "_view_name": "LayoutView",
            "align_content": null,
            "align_items": null,
            "align_self": null,
            "border": null,
            "bottom": null,
            "display": null,
            "flex": null,
            "flex_flow": null,
            "grid_area": null,
            "grid_auto_columns": null,
            "grid_auto_flow": null,
            "grid_auto_rows": null,
            "grid_column": null,
            "grid_gap": null,
            "grid_row": null,
            "grid_template_areas": null,
            "grid_template_columns": null,
            "grid_template_rows": null,
            "height": null,
            "justify_content": null,
            "justify_items": null,
            "left": null,
            "margin": null,
            "max_height": null,
            "max_width": null,
            "min_height": null,
            "min_width": null,
            "object_fit": null,
            "object_position": null,
            "order": null,
            "overflow": null,
            "overflow_x": null,
            "overflow_y": null,
            "padding": null,
            "right": null,
            "top": null,
            "visibility": null,
            "width": null
          }
        },
        "1373ef7d442443149f30d6ce255eb579": {
          "model_module": "@jupyter-widgets/base",
          "model_name": "LayoutModel",
          "model_module_version": "1.2.0",
          "state": {
            "_model_module": "@jupyter-widgets/base",
            "_model_module_version": "1.2.0",
            "_model_name": "LayoutModel",
            "_view_count": null,
            "_view_module": "@jupyter-widgets/base",
            "_view_module_version": "1.2.0",
            "_view_name": "LayoutView",
            "align_content": null,
            "align_items": null,
            "align_self": null,
            "border": null,
            "bottom": null,
            "display": null,
            "flex": null,
            "flex_flow": null,
            "grid_area": null,
            "grid_auto_columns": null,
            "grid_auto_flow": null,
            "grid_auto_rows": null,
            "grid_column": null,
            "grid_gap": null,
            "grid_row": null,
            "grid_template_areas": null,
            "grid_template_columns": null,
            "grid_template_rows": null,
            "height": null,
            "justify_content": null,
            "justify_items": null,
            "left": null,
            "margin": null,
            "max_height": null,
            "max_width": null,
            "min_height": null,
            "min_width": null,
            "object_fit": null,
            "object_position": null,
            "order": null,
            "overflow": null,
            "overflow_x": null,
            "overflow_y": null,
            "padding": null,
            "right": null,
            "top": null,
            "visibility": null,
            "width": null
          }
        },
        "9a268deee76d463ba754d08c996d74c6": {
          "model_module": "@jupyter-widgets/controls",
          "model_name": "DescriptionStyleModel",
          "model_module_version": "1.5.0",
          "state": {
            "_model_module": "@jupyter-widgets/controls",
            "_model_module_version": "1.5.0",
            "_model_name": "DescriptionStyleModel",
            "_view_count": null,
            "_view_module": "@jupyter-widgets/base",
            "_view_module_version": "1.2.0",
            "_view_name": "StyleView",
            "description_width": ""
          }
        },
        "647c8ab755334ec3af784e394ca8c724": {
          "model_module": "@jupyter-widgets/base",
          "model_name": "LayoutModel",
          "model_module_version": "1.2.0",
          "state": {
            "_model_module": "@jupyter-widgets/base",
            "_model_module_version": "1.2.0",
            "_model_name": "LayoutModel",
            "_view_count": null,
            "_view_module": "@jupyter-widgets/base",
            "_view_module_version": "1.2.0",
            "_view_name": "LayoutView",
            "align_content": null,
            "align_items": null,
            "align_self": null,
            "border": null,
            "bottom": null,
            "display": null,
            "flex": null,
            "flex_flow": null,
            "grid_area": null,
            "grid_auto_columns": null,
            "grid_auto_flow": null,
            "grid_auto_rows": null,
            "grid_column": null,
            "grid_gap": null,
            "grid_row": null,
            "grid_template_areas": null,
            "grid_template_columns": null,
            "grid_template_rows": null,
            "height": null,
            "justify_content": null,
            "justify_items": null,
            "left": null,
            "margin": null,
            "max_height": null,
            "max_width": null,
            "min_height": null,
            "min_width": null,
            "object_fit": null,
            "object_position": null,
            "order": null,
            "overflow": null,
            "overflow_x": null,
            "overflow_y": null,
            "padding": null,
            "right": null,
            "top": null,
            "visibility": null,
            "width": null
          }
        },
        "ad00ccbbcf55400799e043f9f24d7aa8": {
          "model_module": "@jupyter-widgets/controls",
          "model_name": "ProgressStyleModel",
          "model_module_version": "1.5.0",
          "state": {
            "_model_module": "@jupyter-widgets/controls",
            "_model_module_version": "1.5.0",
            "_model_name": "ProgressStyleModel",
            "_view_count": null,
            "_view_module": "@jupyter-widgets/base",
            "_view_module_version": "1.2.0",
            "_view_name": "StyleView",
            "bar_color": null,
            "description_width": ""
          }
        },
        "3ac97cc3d5714aa48c461cd1817549d7": {
          "model_module": "@jupyter-widgets/base",
          "model_name": "LayoutModel",
          "model_module_version": "1.2.0",
          "state": {
            "_model_module": "@jupyter-widgets/base",
            "_model_module_version": "1.2.0",
            "_model_name": "LayoutModel",
            "_view_count": null,
            "_view_module": "@jupyter-widgets/base",
            "_view_module_version": "1.2.0",
            "_view_name": "LayoutView",
            "align_content": null,
            "align_items": null,
            "align_self": null,
            "border": null,
            "bottom": null,
            "display": null,
            "flex": null,
            "flex_flow": null,
            "grid_area": null,
            "grid_auto_columns": null,
            "grid_auto_flow": null,
            "grid_auto_rows": null,
            "grid_column": null,
            "grid_gap": null,
            "grid_row": null,
            "grid_template_areas": null,
            "grid_template_columns": null,
            "grid_template_rows": null,
            "height": null,
            "justify_content": null,
            "justify_items": null,
            "left": null,
            "margin": null,
            "max_height": null,
            "max_width": null,
            "min_height": null,
            "min_width": null,
            "object_fit": null,
            "object_position": null,
            "order": null,
            "overflow": null,
            "overflow_x": null,
            "overflow_y": null,
            "padding": null,
            "right": null,
            "top": null,
            "visibility": null,
            "width": null
          }
        },
        "652a3730b11d44cb8ce582039dba5892": {
          "model_module": "@jupyter-widgets/controls",
          "model_name": "DescriptionStyleModel",
          "model_module_version": "1.5.0",
          "state": {
            "_model_module": "@jupyter-widgets/controls",
            "_model_module_version": "1.5.0",
            "_model_name": "DescriptionStyleModel",
            "_view_count": null,
            "_view_module": "@jupyter-widgets/base",
            "_view_module_version": "1.2.0",
            "_view_name": "StyleView",
            "description_width": ""
          }
        }
      }
    }
  },
  "cells": [
    {
      "cell_type": "markdown",
      "metadata": {
        "id": "view-in-github",
        "colab_type": "text"
      },
      "source": [
        "<a href=\"https://colab.research.google.com/github/ChangED1122/Python/blob/Python-PyTorch/PyTorch_image_classification.ipynb\" target=\"_parent\"><img src=\"https://colab.research.google.com/assets/colab-badge.svg\" alt=\"Open In Colab\"/></a>"
      ]
    },
    {
      "cell_type": "code",
      "execution_count": null,
      "metadata": {
        "id": "V4UvTqdHjdp8"
      },
      "outputs": [],
      "source": [
        "from torchvision import datasets\n",
        "from torchvision.transforms import ToTensor #轉換成tensor格式\n",
        "import  matplotlib.pyplot as plt\n",
        "import random\n",
        "from torch.utils.data import DataLoader #把資料分成一小堆\n",
        "from torch import nn\n",
        "import torch"
      ]
    },
    {
      "cell_type": "code",
      "source": [
        "train_data = datasets.FashionMNIST(\n",
        "                      root=\"image\",\n",
        "                      train=True,\n",
        "                      download=True,\n",
        "                      transform=ToTensor()) #轉換成tensor格式，並預先幫我們做特徵縮放\n",
        "\n",
        "test_data = datasets.FashionMNIST(\n",
        "                      root=\"image\",\n",
        "                      train=False,\n",
        "                      download=True,\n",
        "                      transform=ToTensor())"
      ],
      "metadata": {
        "id": "YpdA1eu9k52v"
      },
      "execution_count": null,
      "outputs": []
    },
    {
      "cell_type": "code",
      "source": [
        "img, label = train_data[0]\n",
        "class_names = train_data.classes\n",
        "label , train_data.classes"
      ],
      "metadata": {
        "colab": {
          "base_uri": "https://localhost:8080/"
        },
        "id": "yk7lqxA1lXZc",
        "outputId": "8267915d-e910-418c-b866-3ffdfa9fba65"
      },
      "execution_count": null,
      "outputs": [
        {
          "output_type": "execute_result",
          "data": {
            "text/plain": [
              "(9,\n",
              " ['T-shirt/top',\n",
              "  'Trouser',\n",
              "  'Pullover',\n",
              "  'Dress',\n",
              "  'Coat',\n",
              "  'Sandal',\n",
              "  'Shirt',\n",
              "  'Sneaker',\n",
              "  'Bag',\n",
              "  'Ankle boot'])"
            ]
          },
          "metadata": {},
          "execution_count": 3
        }
      ]
    },
    {
      "cell_type": "markdown",
      "source": [
        "plt 在畫圖時，顏色要放最後一個維度，利用permute()調整 ，\n",
        "新的第0個維度設定成舊的第幾個維度 ,新的第1個維度設定成舊的第幾個維度 ,新的第2個維度設定成舊的第幾個維度"
      ],
      "metadata": {
        "id": "KWvmVQlvo7zE"
      }
    },
    {
      "cell_type": "code",
      "source": [
        "random_idx = random.randint(0,len(train_data)-1)\n",
        "img, label = train_data[random_idx]\n",
        "plt.imshow(img.permute(1, 2, 0)) # 調整維度\n",
        "plt.title(class_names[label])"
      ],
      "metadata": {
        "colab": {
          "base_uri": "https://localhost:8080/",
          "height": 490
        },
        "id": "jmtTfym_lp3_",
        "outputId": "2e6333b8-8a66-4b1b-833b-1084819481e9"
      },
      "execution_count": null,
      "outputs": [
        {
          "output_type": "execute_result",
          "data": {
            "text/plain": [
              "Text(0.5, 1.0, 'T-shirt/top')"
            ]
          },
          "metadata": {},
          "execution_count": 4
        },
        {
          "output_type": "display_data",
          "data": {
            "text/plain": [
              "<Figure size 640x480 with 1 Axes>"
            ],
            "image/png": "[encoded data removed]"
          },
          "metadata": {}
        }
      ]
    },
    {
      "cell_type": "code",
      "source": [
        "len(train_data), len(test_data) # 資料量太大做剃度下降不能全部看完再更新，速度太慢\n",
        "\n",
        "BATCH_SIZE = 32\n",
        "\n",
        "train_dataloader = DataLoader(train_data, batch_size=BATCH_SIZE, shuffle=True) #一開始的資料是有順序的排列直接操作訓練效果不好\n",
        "\n",
        "test_dataloader = DataLoader(test_data, batch_size=BATCH_SIZE, shuffle=False)\n",
        "\n",
        "len(train_dataloader) , len(test_dataloader)  # 60000 / 32 , 10000 / 32"
      ],
      "metadata": {
        "colab": {
          "base_uri": "https://localhost:8080/"
        },
        "id": "qWGU76ossaW2",
        "outputId": "ed6096e0-be2d-4f8b-d570-7b3ce61ce0e6"
      },
      "execution_count": null,
      "outputs": [
        {
          "output_type": "execute_result",
          "data": {
            "text/plain": [
              "(1875, 313)"
            ]
          },
          "metadata": {},
          "execution_count": 5
        }
      ]
    },
    {
      "cell_type": "code",
      "source": [
        "qq = [1,2,3]  # 迭代範例\n",
        "qq_iter = iter(qq)\n",
        "next(qq_iter)"
      ],
      "metadata": {
        "colab": {
          "base_uri": "https://localhost:8080/"
        },
        "id": "kXW3Bl6nu3X9",
        "outputId": "4ff0a08d-6dde-46c6-e910-5aca6af843f8"
      },
      "execution_count": null,
      "outputs": [
        {
          "output_type": "execute_result",
          "data": {
            "text/plain": [
              "1"
            ]
          },
          "metadata": {},
          "execution_count": 6
        }
      ]
    },
    {
      "cell_type": "code",
      "source": [
        "next(qq_iter)"
      ],
      "metadata": {
        "colab": {
          "base_uri": "https://localhost:8080/"
        },
        "id": "rIPDdeQgvDRn",
        "outputId": "e3fe8b6d-d321-41ee-a331-73275d3d4d01"
      },
      "execution_count": null,
      "outputs": [
        {
          "output_type": "execute_result",
          "data": {
            "text/plain": [
              "2"
            ]
          },
          "metadata": {},
          "execution_count": 7
        }
      ]
    },
    {
      "cell_type": "code",
      "source": [
        "next(qq_iter)"
      ],
      "metadata": {
        "colab": {
          "base_uri": "https://localhost:8080/"
        },
        "id": "kDQKMROfvE0o",
        "outputId": "d16f04c8-ff74-40c5-d1d3-9f24a5a895e7"
      },
      "execution_count": null,
      "outputs": [
        {
          "output_type": "execute_result",
          "data": {
            "text/plain": [
              "3"
            ]
          },
          "metadata": {},
          "execution_count": 8
        }
      ]
    },
    {
      "cell_type": "markdown",
      "source": [
        "train_dataloader 是一個可迭代的物件 好幾個batch 結果為第一小堆的feature與label"
      ],
      "metadata": {
        "id": "WK1meZhHvwfW"
      }
    },
    {
      "cell_type": "code",
      "source": [
        "x_first_batch, y_first_batch = next(iter(train_dataloader))  \n",
        "x_first_batch.shape , y_first_batch.shape"
      ],
      "metadata": {
        "colab": {
          "base_uri": "https://localhost:8080/"
        },
        "id": "QoUQKUkzs43U",
        "outputId": "c46102df-b874-46df-c3e1-158fe7bfed79"
      },
      "execution_count": null,
      "outputs": [
        {
          "output_type": "execute_result",
          "data": {
            "text/plain": [
              "(torch.Size([32, 1, 28, 28]), torch.Size([32]))"
            ]
          },
          "metadata": {},
          "execution_count": 9
        }
      ]
    },
    {
      "cell_type": "code",
      "source": [
        "random_idx = random.randint(0,len(x_first_batch)-1)\n",
        "img, label = x_first_batch[random_idx], y_first_batch[random_idx]\n",
        "\n",
        "plt.imshow(img.permute(1, 2, 0)) # 調整維度\n",
        "plt.title(class_names[label])"
      ],
      "metadata": {
        "colab": {
          "base_uri": "https://localhost:8080/",
          "height": 490
        },
        "id": "pYjdT2pSwHL-",
        "outputId": "25b8531d-760a-47ea-b237-0a6103437903"
      },
      "execution_count": null,
      "outputs": [
        {
          "output_type": "execute_result",
          "data": {
            "text/plain": [
              "Text(0.5, 1.0, 'Shirt')"
            ]
          },
          "metadata": {},
          "execution_count": 10
        },
        {
          "output_type": "display_data",
          "data": {
            "text/plain": [
              "<Figure size 640x480 with 1 Axes>"
            ],
            "image/png": "[encoded data removed]"
          },
          "metadata": {}
        }
      ]
    },
    {
      "cell_type": "markdown",
      "source": [
        "在輸入到神經網路前須先將特徵攤平或拉直 3維 -> 1維"
      ],
      "metadata": {
        "id": "M5CufLHSfF4e"
      }
    },
    {
      "cell_type": "code",
      "source": [
        "x_first_batch[0].shape"
      ],
      "metadata": {
        "colab": {
          "base_uri": "https://localhost:8080/"
        },
        "id": "LHB2ppiJwXvY",
        "outputId": "0f5d1884-96eb-4597-cb8a-f8e25deea829"
      },
      "execution_count": null,
      "outputs": [
        {
          "output_type": "execute_result",
          "data": {
            "text/plain": [
              "torch.Size([1, 28, 28])"
            ]
          },
          "metadata": {},
          "execution_count": 11
        }
      ]
    },
    {
      "cell_type": "code",
      "source": [
        "f = nn.Flatten(start_dim=0, end_dim=-1) # 第零個維度開始攤平\n",
        "f(x_first_batch[0]).shape"
      ],
      "metadata": {
        "colab": {
          "base_uri": "https://localhost:8080/"
        },
        "id": "_bw15_2afush",
        "outputId": "12d73e86-f460-43e0-9b21-764cc5274ac0"
      },
      "execution_count": null,
      "outputs": [
        {
          "output_type": "execute_result",
          "data": {
            "text/plain": [
              "torch.Size([784])"
            ]
          },
          "metadata": {},
          "execution_count": 12
        }
      ]
    },
    {
      "cell_type": "markdown",
      "source": [
        "定義模型"
      ],
      "metadata": {
        "id": "YfgQqbragwHX"
      }
    },
    {
      "cell_type": "code",
      "source": [
        "class ImageClassificationModel(nn.Module):\n",
        "  def __init__(self, input_shape, output_shape):\n",
        "    super().__init__()\n",
        "    self.layer_stack = nn.Sequential(\n",
        "      nn.Flatten(start_dim=1, end_dim=-1), # torch.Size([32, 1, 28, 28] 第0個維度是batch size所以從第1維開始攤平\n",
        "      nn.Linear(in_features= input_shape , out_features= output_shape ), \n",
        "      #nn.Softmax(dim=1)    #torch.Size([32, 10]) 第1維開始softmax\n",
        "    )\n",
        "    \n",
        "\n",
        "  def forward(self,x):\n",
        "    return self.layer_stack(x)"
      ],
      "metadata": {
        "id": "jD2jA0stgysZ"
      },
      "execution_count": null,
      "outputs": []
    },
    {
      "cell_type": "code",
      "source": [
        "x_first_batch, y_first_batch = next(iter(train_dataloader))  \n",
        "x_first_batch.shape , y_first_batch.shape"
      ],
      "metadata": {
        "colab": {
          "base_uri": "https://localhost:8080/"
        },
        "id": "mmejWK_QlDPw",
        "outputId": "ef998a80-d0f0-49cf-d125-c52705ce9f30"
      },
      "execution_count": null,
      "outputs": [
        {
          "output_type": "execute_result",
          "data": {
            "text/plain": [
              "(torch.Size([32, 1, 28, 28]), torch.Size([32]))"
            ]
          },
          "metadata": {},
          "execution_count": 14
        }
      ]
    },
    {
      "cell_type": "markdown",
      "source": [
        "s = nn.Softmax(dim=0) #因tensor（y_pred）只有一維，dim=0\n",
        "\n",
        "s(y_pred).argmax() # 找最大機率在第幾位\n",
        "\n",
        "s(y_pred).argmin()"
      ],
      "metadata": {
        "id": "YdTpx2TJmmXx"
      }
    },
    {
      "cell_type": "code",
      "source": [
        "torch.manual_seed(87)\n",
        "model = ImageClassificationModel(28*28 , 10) # input:28*28 output:10個類別\n",
        "y_pred = model(x_first_batch)\n",
        "y_pred.shape , y_pred , y_pred.argmax(dim=1) #torch.Size([32, 10] 的第一維度"
      ],
      "metadata": {
        "colab": {
          "base_uri": "https://localhost:8080/"
        },
        "id": "X39kr69Lhpjq",
        "outputId": "ed980eb9-5329-497a-d4e5-01b5db478fb7"
      },
      "execution_count": null,
      "outputs": [
        {
          "output_type": "execute_result",
          "data": {
            "text/plain": [
              "(torch.Size([32, 10]),\n",
              " tensor([[-4.0651e-01, -2.6150e-01,  2.2308e-01,  1.9855e-01,  3.2721e-01,\n",
              "           1.2734e-01, -3.4229e-01,  3.1314e-03, -2.5192e-01, -5.9939e-01],\n",
              "         [-3.0022e-01, -1.7727e-01,  3.8762e-01, -5.2285e-02,  3.4991e-01,\n",
              "           3.4918e-02, -4.4279e-01, -1.5478e-01, -1.0591e-01, -4.5101e-01],\n",
              "         [-4.0505e-01,  6.0398e-02,  6.0689e-03,  1.2348e-01,  3.1892e-01,\n",
              "           3.3127e-01, -4.1749e-01,  4.5747e-01, -1.7755e-02, -8.3783e-01],\n",
              "         [-9.9110e-02, -8.7089e-02,  1.1832e-01,  4.9723e-02,  1.5357e-01,\n",
              "           1.8072e-01, -3.3465e-01,  1.8870e-01, -1.1503e-01, -6.9558e-01],\n",
              "         [-1.8995e-01, -2.8995e-01,  2.6140e-01,  8.5433e-02,  3.1208e-02,\n",
              "           3.9143e-01, -4.0534e-01,  5.0715e-01, -3.4166e-01, -5.7870e-01],\n",
              "         [-3.4175e-01, -2.2622e-01,  3.3166e-01,  4.3246e-01,  5.6852e-03,\n",
              "           6.6374e-02, -5.0946e-01,  5.0591e-02,  1.2762e-01, -6.8074e-01],\n",
              "         [-2.7003e-01, -1.2058e-01,  2.5829e-01,  3.5165e-01,  3.4949e-01,\n",
              "           4.0544e-01, -6.3741e-01,  3.4104e-01, -2.8740e-01, -6.6808e-01],\n",
              "         [-2.6193e-01, -2.9005e-01,  3.8526e-01,  2.4094e-01,  3.5952e-01,\n",
              "           6.3547e-02, -3.2474e-01, -7.6811e-02, -3.1663e-01, -4.8439e-01],\n",
              "         [ 9.9349e-02, -2.1817e-01,  9.3805e-02, -1.6636e-01,  2.9978e-01,\n",
              "          -2.3192e-01, -2.1961e-01,  2.4441e-01, -2.0097e-01,  4.2266e-02],\n",
              "         [ 3.5213e-02, -2.0535e-01,  9.4099e-02,  9.8060e-03, -3.4570e-01,\n",
              "          -3.4143e-02,  1.1598e-01,  1.8559e-01, -9.1630e-02, -4.0008e-01],\n",
              "         [-6.1025e-01, -3.3533e-01,  7.5664e-01, -1.7749e-02,  2.6754e-01,\n",
              "           5.4012e-01, -4.0495e-01,  6.8688e-01, -1.8147e-02, -1.0671e+00],\n",
              "         [-3.5675e-01, -1.3682e-01,  1.4701e-01,  3.0188e-01,  3.4565e-01,\n",
              "           2.0339e-01, -5.0235e-01,  4.3237e-01, -3.4707e-02, -9.4513e-01],\n",
              "         [-3.0444e-01, -5.8519e-03,  4.2613e-01,  2.4400e-01,  6.2580e-03,\n",
              "           3.5156e-01, -3.8821e-01,  6.6284e-01, -4.7243e-02, -5.8251e-01],\n",
              "         [-2.2944e-01,  5.6294e-02,  1.4864e-01, -4.4094e-02, -6.8998e-02,\n",
              "           7.9799e-02, -2.5489e-01,  1.7226e-01,  1.4900e-01, -4.0731e-01],\n",
              "         [-1.4519e-01, -1.3643e-01,  1.7657e-01, -5.0149e-02,  1.6839e-01,\n",
              "           5.6509e-02, -1.7366e-01,  5.3448e-03, -3.2208e-02, -4.6227e-01],\n",
              "         [-4.2750e-01, -2.1468e-01,  4.1307e-01,  1.0075e-01,  3.9670e-01,\n",
              "           1.0977e-01, -3.4993e-01, -1.0829e-01, -2.8977e-01, -5.4102e-01],\n",
              "         [-2.8390e-01, -1.3539e-01,  2.6625e-01,  2.1045e-01,  1.7508e-01,\n",
              "           1.7612e-01, -2.2354e-01, -1.4088e-01,  3.4835e-02, -5.5168e-01],\n",
              "         [ 3.9545e-02, -1.3242e-01,  1.1423e-01, -2.6822e-01, -1.5038e-02,\n",
              "           1.1362e-01, -5.0049e-01,  2.5434e-01, -2.5980e-01, -3.0542e-01],\n",
              "         [ 1.0409e-02,  8.2333e-02, -8.2050e-03,  3.9115e-01,  1.7015e-01,\n",
              "           1.2739e-01, -2.9451e-01,  1.8055e-01, -1.5501e-01, -3.9583e-01],\n",
              "         [-8.5196e-02,  2.0935e-02,  7.4983e-02, -1.0071e-01,  1.1842e-01,\n",
              "           3.4669e-01, -4.2621e-01,  4.2101e-01, -4.3834e-01, -4.9534e-01],\n",
              "         [-2.2419e-01, -3.4207e-01,  2.5440e-01,  1.6856e-01,  3.9561e-01,\n",
              "          -4.6291e-02, -2.9871e-01, -1.4111e-01, -1.1294e-01, -5.2563e-01],\n",
              "         [-6.2382e-03, -1.1858e-01,  1.8897e-02, -5.7350e-02,  1.2976e-01,\n",
              "           1.9568e-01, -2.0463e-01,  3.2510e-01, -2.8755e-01, -3.0832e-01],\n",
              "         [-3.9805e-01, -6.8494e-01,  8.2149e-01,  1.8393e-01,  1.8030e-01,\n",
              "           5.0521e-01, -3.3697e-01, -1.2198e-01,  1.8302e-02, -9.1396e-01],\n",
              "         [-1.8771e-02, -4.5717e-02,  5.3182e-01,  4.2520e-01,  4.5120e-01,\n",
              "           4.4212e-01, -6.2433e-01,  2.6220e-01, -2.4426e-01, -7.9229e-01],\n",
              "         [ 3.8287e-02, -9.3146e-03,  3.5158e-01,  3.1772e-01,  2.7767e-01,\n",
              "           3.4045e-01, -4.8498e-01,  2.5950e-01, -3.3102e-01, -5.4771e-01],\n",
              "         [-9.6541e-03, -6.5469e-02,  1.2341e-01, -3.7228e-02,  1.4439e-01,\n",
              "           3.2451e-01, -5.4781e-01,  5.4335e-01, -5.7470e-01, -6.0190e-01],\n",
              "         [ 1.1071e-01, -3.3308e-02,  8.6377e-02,  2.5662e-01,  5.4027e-01,\n",
              "           3.5940e-01, -4.1311e-01,  3.0404e-01, -2.2583e-01, -4.9661e-01],\n",
              "         [-6.1363e-02,  8.2724e-02,  3.3586e-02, -8.8810e-02, -4.2257e-02,\n",
              "           1.3834e-01, -2.0001e-01, -1.8679e-01,  3.7530e-02, -3.9697e-01],\n",
              "         [ 1.0235e-01,  1.2269e-01,  2.3415e-01,  2.5576e-01,  4.6459e-01,\n",
              "           3.1873e-01, -5.0240e-01,  3.1208e-01, -4.0319e-01, -6.9131e-01],\n",
              "         [-9.8298e-02,  1.5914e-01,  5.0193e-02,  2.4342e-01,  1.8648e-01,\n",
              "          -4.1554e-02, -3.8662e-02,  2.7608e-01,  2.2644e-04, -3.4274e-01],\n",
              "         [-1.0070e-01, -3.1452e-02,  3.2585e-01,  3.0597e-01,  2.0841e-01,\n",
              "           2.0613e-01, -3.0557e-01,  2.2144e-01, -2.5488e-01, -5.8472e-01],\n",
              "         [-4.8493e-01, -1.5275e-01,  4.5820e-01, -5.6477e-03,  4.0650e-01,\n",
              "           2.2527e-01, -4.5163e-01, -1.2802e-01, -4.1200e-01, -4.8729e-01]],\n",
              "        grad_fn=<AddmmBackward0>),\n",
              " tensor([4, 2, 7, 7, 7, 3, 5, 2, 4, 7, 2, 7, 7, 7, 2, 2, 2, 7, 3, 7, 4, 7, 2, 2,\n",
              "         2, 7, 4, 5, 4, 7, 2, 2]))"
            ]
          },
          "metadata": {},
          "execution_count": 15
        }
      ]
    },
    {
      "cell_type": "markdown",
      "source": [
        "softmax函數 加起來機率為1 "
      ],
      "metadata": {
        "id": "Ga6YIZmIiBVH"
      }
    },
    {
      "cell_type": "markdown",
      "source": [
        "CrossEntropyLoss( ) 會先幫我們做softmax，故把一開始模型設定的softmax刪除"
      ],
      "metadata": {
        "id": "IJJo47GHuH1v"
      }
    },
    {
      "cell_type": "code",
      "source": [
        "cost_fn = nn.CrossEntropyLoss() \n",
        "y_pred = model(x_first_batch)\n",
        "cost = cost_fn(y_pred, y_first_batch)\n",
        "\n",
        "print(cost)\n",
        "print(model.state_dict())\n",
        "\n",
        "optimizer = torch.optim.SGD(params=model.parameters(), lr=0.01)\n",
        "optimizer.zero_grad()\n",
        "cost.backward()\n",
        "optimizer.step()\n",
        "\n",
        "y_pred = model(x_first_batch)\n",
        "cost = cost_fn(y_pred, y_first_batch)\n",
        "print(cost)\n",
        "print(model.state_dict())"
      ],
      "metadata": {
        "colab": {
          "base_uri": "https://localhost:8080/"
        },
        "id": "TWko3K2Yi6zr",
        "outputId": "4868371d-862b-443d-8446-fd34dbd4ddb3"
      },
      "execution_count": null,
      "outputs": [
        {
          "output_type": "stream",
          "name": "stdout",
          "text": [
            "tensor(2.4140, grad_fn=<NllLossBackward0>)\n",
            "OrderedDict([('layer_stack.1.weight', tensor([[-0.0355,  0.0281, -0.0032,  ..., -0.0253,  0.0329, -0.0172],\n",
            "        [-0.0108, -0.0178,  0.0132,  ...,  0.0324, -0.0354,  0.0180],\n",
            "        [-0.0197,  0.0092,  0.0163,  ..., -0.0204,  0.0296, -0.0310],\n",
            "        ...,\n",
            "        [ 0.0022,  0.0250, -0.0206,  ...,  0.0313,  0.0052, -0.0215],\n",
            "        [ 0.0283,  0.0323,  0.0323,  ...,  0.0146, -0.0040,  0.0086],\n",
            "        [ 0.0243,  0.0077, -0.0030,  ...,  0.0065,  0.0205,  0.0202]])), ('layer_stack.1.bias', tensor([ 0.0099,  0.0330,  0.0156, -0.0259,  0.0210, -0.0344, -0.0287,  0.0027,\n",
            "        -0.0189,  0.0245]))])\n",
            "tensor(2.3201, grad_fn=<NllLossBackward0>)\n",
            "OrderedDict([('layer_stack.1.weight', tensor([[-0.0355,  0.0281, -0.0032,  ..., -0.0253,  0.0328, -0.0172],\n",
            "        [-0.0108, -0.0178,  0.0132,  ...,  0.0323, -0.0354,  0.0180],\n",
            "        [-0.0197,  0.0092,  0.0163,  ..., -0.0205,  0.0296, -0.0310],\n",
            "        ...,\n",
            "        [ 0.0022,  0.0250, -0.0206,  ...,  0.0312,  0.0052, -0.0215],\n",
            "        [ 0.0283,  0.0323,  0.0323,  ...,  0.0146, -0.0041,  0.0086],\n",
            "        [ 0.0243,  0.0077, -0.0030,  ...,  0.0066,  0.0206,  0.0202]])), ('layer_stack.1.bias', tensor([ 0.0103,  0.0327,  0.0152, -0.0264,  0.0210, -0.0356, -0.0291,  0.0036,\n",
            "        -0.0189,  0.0258]))])\n"
          ]
        }
      ]
    },
    {
      "cell_type": "code",
      "source": [
        "def accuracy_fn(y_pred, y_true):\n",
        "  correct_num = ( y_pred==y_true).sum()\n",
        "  acc = correct_num/len(y_true) *100\n",
        "  return acc"
      ],
      "metadata": {
        "id": "vvorjlET24T9"
      },
      "execution_count": null,
      "outputs": []
    },
    {
      "cell_type": "code",
      "source": [
        "device = \"cuda\" if torch.cuda.is_available() else \"cpu\"\n",
        "model.to(device)"
      ],
      "metadata": {
        "colab": {
          "base_uri": "https://localhost:8080/"
        },
        "id": "SWIXXZTmpRBM",
        "outputId": "07eb40d0-0144-41b7-f5ce-d472201e9591"
      },
      "execution_count": null,
      "outputs": [
        {
          "output_type": "execute_result",
          "data": {
            "text/plain": [
              "ImageClassificationModel(\n",
              "  (layer_stack): Sequential(\n",
              "    (0): Flatten(start_dim=1, end_dim=-1)\n",
              "    (1): Linear(in_features=784, out_features=10, bias=True)\n",
              "  )\n",
              ")"
            ]
          },
          "metadata": {},
          "execution_count": 18
        }
      ]
    },
    {
      "cell_type": "code",
      "source": [
        "def train_step(dataloader, model, cost_fn, optimizer, accuracy_fn, device): #訓練步驟\n",
        "   train_cost = 0\n",
        "   train_acc = 0\n",
        "\n",
        "   for batch, (x, y) in enumerate(dataloader):  # enumerate( ) 知道第幾個batch\n",
        "    x= x.to(device)\n",
        "    y= y.to(device)\n",
        "    model.train()\n",
        "\n",
        "    y_pred = model(x)\n",
        "\n",
        "    cost = cost_fn(y_pred, y)\n",
        "    train_cost += cost   #  train_cost的值=每個batch的cost加總\n",
        "\n",
        "    train_acc += accuracy_fn(y_pred.argmax(dim=1) ,y)\n",
        "\n",
        "    optimizer.zero_grad()\n",
        "    cost.backward()\n",
        "    optimizer.step()\n",
        "  \n",
        "   train_cost /= len(train_dataloader)  #取平均\n",
        "   train_acc /= len(train_dataloader)\n",
        "   print(f\"\\nTrain Cost: {train_cost:.4f}, Train Acc: {train_acc:.2f}\")\n",
        "\n",
        "def test_step(dataloader, model, cost_fn, accuracy_fn, device): #測試步驟\n",
        "  test_cost = 0\n",
        "  test_acc = 0\n",
        "  model.eval()\n",
        "  with torch.inference_mode():\n",
        "    for x, y in dataloader:\n",
        "      x= x.to(device)\n",
        "      y= y.to(device)\n",
        "      test_pred = model(x)\n",
        "      \n",
        "      test_cost += cost_fn(test_pred, y)\n",
        "      test_acc += accuracy_fn(test_pred.argmax(dim=1) ,y)\n",
        "\n",
        "    test_cost /= len(test_dataloader)\n",
        "    test_acc /= len(test_dataloader)\n",
        "  \n",
        "  print(f\"Test  Cost: {test_cost:.4f}, Test  Acc: {test_acc:.2f}  \\n\")"
      ],
      "metadata": {
        "id": "-ZfBmCcQsmV_"
      },
      "execution_count": null,
      "outputs": []
    },
    {
      "cell_type": "code",
      "source": [
        "from tqdm.auto import tqdm  #進度條\n",
        "\n",
        "epochs = 10\n",
        "for epoch in tqdm(range(epochs)):\n",
        "  print(f\"Epoch: {epoch}\\n------\")\n",
        "  train_step(train_dataloader, model, cost_fn, optimizer, accuracy_fn, device)\n",
        "\n",
        "  test_step(test_dataloader, model, cost_fn, accuracy_fn, device)\n",
        "\n",
        "  "
      ],
      "metadata": {
        "colab": {
          "base_uri": "https://localhost:8080/",
          "height": 1000,
          "referenced_widgets": [
            "0b050801b7f74618b887682f6eeeba9b",
            "b32e9ddcb30c4ae08fc308762a7b2569",
            "412ea3b86bef4bfe9a616e9f5ce41a0a",
            "8cf4f54ba20e440e8c7221e59f31bbbb",
            "c5086bcf890d4e95bdea15d66ff934c1",
            "846948b0edc443feb3a456263616c183",
            "87545228b67b46d28ab05acaf338f9f8",
            "d54c46f49a124ff1b67591649e1b66ea",
            "7b76066cf43c4c609e491869023e0d8f",
            "d00c44f5a8cb45fd8e8530d1bf5dd775",
            "c95e392e397a42caa39486b32ac17879"
          ]
        },
        "id": "O5pyoM05vONG",
        "outputId": "c3bc9d35-8dad-4908-9909-98c2d2807584"
      },
      "execution_count": null,
      "outputs": [
        {
          "output_type": "display_data",
          "data": {
            "text/plain": [
              "  0%|          | 0/10 [00:00<?, ?it/s]"
            ],
            "application/vnd.jupyter.widget-view+json": {
              "version_major": 2,
              "version_minor": 0,
              "model_id": "0b050801b7f74618b887682f6eeeba9b"
            }
          },
          "metadata": {}
        },
        {
          "output_type": "stream",
          "name": "stdout",
          "text": [
            "Epoch: 0\n",
            "------\n",
            "\n",
            "Train Cost: 0.8185, Train Acc: 74.45\n",
            "Test  Cost: 0.6519, Test  Acc: 78.01  \n",
            "\n",
            "Epoch: 1\n",
            "------\n",
            "\n",
            "Train Cost: 0.5891, Train Acc: 80.89\n",
            "Test  Cost: 0.5801, Test  Acc: 80.85  \n",
            "\n",
            "Epoch: 2\n",
            "------\n",
            "\n",
            "Train Cost: 0.5400, Train Acc: 82.38\n",
            "Test  Cost: 0.5481, Test  Acc: 81.50  \n",
            "\n",
            "Epoch: 3\n",
            "------\n",
            "\n",
            "Train Cost: 0.5138, Train Acc: 83.00\n",
            "Test  Cost: 0.5290, Test  Acc: 82.09  \n",
            "\n",
            "Epoch: 4\n",
            "------\n",
            "\n",
            "Train Cost: 0.4966, Train Acc: 83.39\n",
            "Test  Cost: 0.5172, Test  Acc: 82.48  \n",
            "\n",
            "Epoch: 5\n",
            "------\n",
            "\n",
            "Train Cost: 0.4839, Train Acc: 83.73\n",
            "Test  Cost: 0.5091, Test  Acc: 82.55  \n",
            "\n",
            "Epoch: 6\n",
            "------\n",
            "\n",
            "Train Cost: 0.4740, Train Acc: 84.01\n",
            "Test  Cost: 0.5000, Test  Acc: 82.89  \n",
            "\n",
            "Epoch: 7\n",
            "------\n",
            "\n",
            "Train Cost: 0.4667, Train Acc: 84.32\n",
            "Test  Cost: 0.4935, Test  Acc: 82.98  \n",
            "\n",
            "Epoch: 8\n",
            "------\n",
            "\n",
            "Train Cost: 0.4603, Train Acc: 84.42\n",
            "Test  Cost: 0.4900, Test  Acc: 83.04  \n",
            "\n",
            "Epoch: 9\n",
            "------\n",
            "\n",
            "Train Cost: 0.4549, Train Acc: 84.64\n",
            "Test  Cost: 0.4838, Test  Acc: 83.31  \n",
            "\n"
          ]
        }
      ]
    },
    {
      "cell_type": "markdown",
      "source": [
        "Softmax -> 多元分類    \n",
        "    \n",
        "Sigmoid -> 二元分類\n",
        "\n",
        "Relu -> 預測價格(>=0)零以下的值都會被轉換成0 ，常用且計算快 "
      ],
      "metadata": {
        "id": "9j6yhDFhyo6I"
      }
    },
    {
      "cell_type": "code",
      "source": [
        "class ImageClassificationModel2(nn.Module):           #實作新架構\n",
        "  def __init__(self, input_shape, output_shape):\n",
        "    super().__init__()\n",
        "    self.layer_stack = nn.Sequential(\n",
        "      nn.Flatten(start_dim=1, end_dim=-1), # torch.Size([32, 1, 28, 28] 第0個維度是batch size所以從第1維開始攤平\n",
        "      nn.Linear(in_features= input_shape , out_features= 5 ),\n",
        "      nn.ReLU(),\n",
        "      nn.Linear(in_features= 5 , out_features= 8 ), \n",
        "      nn.ReLU(),\n",
        "      nn.Linear(in_features= 8, out_features= output_shape ) #  不用加softmax，因為 CrossEntropy已經幫我們做\n",
        "    )\n",
        "    \n",
        "\n",
        "  def forward(self,x):\n",
        "    return self.layer_stack(x)"
      ],
      "metadata": {
        "id": "I15VJXjnxLtD"
      },
      "execution_count": null,
      "outputs": []
    },
    {
      "cell_type": "code",
      "source": [
        "model_2 = ImageClassificationModel2(28*28, 10)\n",
        "model_2.to(device)\n",
        "cost_fn = nn.CrossEntropyLoss()\n",
        "optimizer = torch.optim.SGD(model_2.parameters(), lr=0.01)"
      ],
      "metadata": {
        "id": "DqHqWRMF1vKI"
      },
      "execution_count": null,
      "outputs": []
    },
    {
      "cell_type": "code",
      "source": [
        "epochs = 10\n",
        "for epoch in tqdm(range(epochs)):\n",
        "  print(f\"Epoch: {epoch}\\n------\")\n",
        "  train_step(train_dataloader, model_2, cost_fn, optimizer, accuracy_fn, device)\n",
        "\n",
        "  test_step(test_dataloader, model_2, cost_fn, accuracy_fn, device)\n",
        "\n",
        "  "
      ],
      "metadata": {
        "colab": {
          "base_uri": "https://localhost:8080/",
          "height": 1000,
          "referenced_widgets": [
            "f82daaac85604e4b92a531a80b6870d5",
            "e72d0c37884e4237bd4fca7a1f74964a",
            "d0fd603832094409a76db638e28129fe",
            "6054b4e2844e4540848ace398db3a981",
            "37462ba63033467a8c3b3ca4600276f5",
            "1373ef7d442443149f30d6ce255eb579",
            "9a268deee76d463ba754d08c996d74c6",
            "647c8ab755334ec3af784e394ca8c724",
            "ad00ccbbcf55400799e043f9f24d7aa8",
            "3ac97cc3d5714aa48c461cd1817549d7",
            "652a3730b11d44cb8ce582039dba5892"
          ]
        },
        "id": "caLamt5b2PQz",
        "outputId": "df573c31-7fb1-4bbf-fabc-24a8a40d42cc"
      },
      "execution_count": null,
      "outputs": [
        {
          "output_type": "display_data",
          "data": {
            "text/plain": [
              "  0%|          | 0/10 [00:00<?, ?it/s]"
            ],
            "application/vnd.jupyter.widget-view+json": {
              "version_major": 2,
              "version_minor": 0,
              "model_id": "f82daaac85604e4b92a531a80b6870d5"
            }
          },
          "metadata": {}
        },
        {
          "output_type": "stream",
          "name": "stdout",
          "text": [
            "Epoch: 0\n",
            "------\n",
            "\n",
            "Train Cost: 1.5730, Train Acc: 41.95\n",
            "Test  Cost: 0.8514, Test  Acc: 64.86  \n",
            "\n",
            "Epoch: 1\n",
            "------\n",
            "\n",
            "Train Cost: 0.7210, Train Acc: 73.08\n",
            "Test  Cost: 0.6569, Test  Acc: 76.76  \n",
            "\n",
            "Epoch: 2\n",
            "------\n",
            "\n",
            "Train Cost: 0.6000, Train Acc: 78.93\n",
            "Test  Cost: 0.5971, Test  Acc: 78.39  \n",
            "\n",
            "Epoch: 3\n",
            "------\n",
            "\n",
            "Train Cost: 0.5554, Train Acc: 80.64\n",
            "Test  Cost: 0.5753, Test  Acc: 80.03  \n",
            "\n",
            "Epoch: 4\n",
            "------\n",
            "\n",
            "Train Cost: 0.5306, Train Acc: 81.69\n",
            "Test  Cost: 0.5627, Test  Acc: 80.42  \n",
            "\n",
            "Epoch: 5\n",
            "------\n",
            "\n",
            "Train Cost: 0.5168, Train Acc: 82.15\n",
            "Test  Cost: 0.5629, Test  Acc: 80.46  \n",
            "\n",
            "Epoch: 6\n",
            "------\n",
            "\n",
            "Train Cost: 0.5062, Train Acc: 82.41\n",
            "Test  Cost: 0.5232, Test  Acc: 81.74  \n",
            "\n",
            "Epoch: 7\n",
            "------\n",
            "\n",
            "Train Cost: 0.4970, Train Acc: 82.82\n",
            "Test  Cost: 0.5377, Test  Acc: 80.72  \n",
            "\n",
            "Epoch: 8\n",
            "------\n",
            "\n",
            "Train Cost: 0.4901, Train Acc: 83.01\n",
            "Test  Cost: 0.5230, Test  Acc: 81.88  \n",
            "\n",
            "Epoch: 9\n",
            "------\n",
            "\n",
            "Train Cost: 0.4853, Train Acc: 83.07\n",
            "Test  Cost: 0.5138, Test  Acc: 82.26  \n",
            "\n"
          ]
        }
      ]
    },
    {
      "cell_type": "code",
      "source": [
        "def eval_model( dataloader, model, cost_fn, accuracy_fn, device):\n",
        "  test_cost = 0\n",
        "  test_acc = 0\n",
        "  model.eval()\n",
        "  with torch.inference_mode():\n",
        "    for x, y in dataloader:\n",
        "      x= x.to(device)\n",
        "      y= y.to(device)\n",
        "      test_pred = model(x)\n",
        "      \n",
        "      test_cost += cost_fn(test_pred, y)\n",
        "      test_acc += accuracy_fn(test_pred.argmax(dim=1) ,y)\n",
        "\n",
        "    test_cost /= len(test_dataloader)\n",
        "    test_acc /= len(test_dataloader)\n",
        "\n",
        "  return {\n",
        "      \"model_name\": model.__class__.__name__, #取得模型名稱\n",
        "      \"model_cost\": test_cost.item(), #.item() 單純取得裡面數字 不會有tensor格式\n",
        "      \"model_acc\": test_acc.item()\n",
        "  }"
      ],
      "metadata": {
        "id": "7IQJzAi53zvK"
      },
      "execution_count": null,
      "outputs": []
    },
    {
      "cell_type": "markdown",
      "source": [
        "a = torch.tensor(3) # 只能是一個數字 ，[1,2,3]不行\n",
        "\n",
        "\n",
        "a.item()"
      ],
      "metadata": {
        "id": "Zc2Ud-cF6JM5"
      }
    },
    {
      "cell_type": "code",
      "source": [
        "model_1_result = eval_model( test_dataloader, model, cost_fn, accuracy_fn, device)\n",
        "model_1_result"
      ],
      "metadata": {
        "colab": {
          "base_uri": "https://localhost:8080/"
        },
        "id": "eUct6Rm546F4",
        "outputId": "272a346e-34e7-4127-a489-f86ce3508163"
      },
      "execution_count": null,
      "outputs": [
        {
          "output_type": "execute_result",
          "data": {
            "text/plain": [
              "{'model_name': 'ImageClassificationModel',\n",
              " 'model_cost': 0.4837781488895416,\n",
              " 'model_acc': 83.30670928955078}"
            ]
          },
          "metadata": {},
          "execution_count": 25
        }
      ]
    },
    {
      "cell_type": "code",
      "source": [
        "model_2_result = eval_model( test_dataloader, model_2, cost_fn, accuracy_fn, device)\n",
        "model_2_result"
      ],
      "metadata": {
        "colab": {
          "base_uri": "https://localhost:8080/"
        },
        "id": "Kh7B_RDL5wFa",
        "outputId": "6c18d414-f32a-4427-cd33-6ae190102474"
      },
      "execution_count": null,
      "outputs": [
        {
          "output_type": "execute_result",
          "data": {
            "text/plain": [
              "{'model_name': 'ImageClassificationModel2',\n",
              " 'model_cost': 0.5137758255004883,\n",
              " 'model_acc': 82.25838470458984}"
            ]
          },
          "metadata": {},
          "execution_count": 26
        }
      ]
    },
    {
      "cell_type": "markdown",
      "source": [
        "Underfitting（欠擬合） : 模型不夠擬合資料\n",
        "\n",
        "解決方法 -> 1.增加學習率 2.訓練久一點 3.增加模型複雜度\n",
        "\n",
        "Overfitting（過擬合） : 在訓練集表現很好，但是在測試集表現很差\n",
        "\n",
        "\n",
        "解決方法 -> 1.搜集更多資料 2.簡化模型 3.提早停止訓練\n",
        "\n",
        "\n",
        "![346111123_782660603434935_1019199547256528423_n.png](data:image/png;base64,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)"
      ],
      "metadata": {
        "id": "Ue_u3rbZZ6sl"
      }
    }
  ]
}